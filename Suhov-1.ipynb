{
  "metadata": {
    "kernelspec": {
      "language": "python",
      "display_name": "Python 3",
      "name": "python3"
    },
    "language_info": {
      "pygments_lexer": "ipython3",
      "nbconvert_exporter": "python",
      "version": "3.6.4",
      "file_extension": ".py",
      "codemirror_mode": {
        "name": "ipython",
        "version": 3
      },
      "name": "python",
      "mimetype": "text/x-python"
    },
    "colab": {
      "provenance": []
    }
  },
  "nbformat_minor": 0,
  "nbformat": 4,
  "cells": [
    {
      "cell_type": "markdown",
      "source": [
        "Подбор гиперпараметров\n"
      ],
      "metadata": {
        "id": "X3TZhRs87ZFl"
      }
    },
    {
      "cell_type": "code",
      "execution_count": 4,
      "outputs": [
        {
          "output_type": "execute_result",
          "data": {
            "text/plain": [
              "'\\n\\nРост числа супермаркетов в большинстве населенных городов увеличивается, и конкуренция на рынке также высока.\\nНабор данных представляет собой один из исторических данных о продажах компании-супермаркета, который был зарегистрирован в 3 различных филиалах за 3 месяца.\\n\\nПоскольку данные исторические и имеют временную зависимость, в работе необходимо учесть порядок записей и при разбиении на трейн и тест следить за тем, чтобы данные в тесте были дальше на временном отрезке\\n'"
            ],
            "application/vnd.google.colaboratory.intrinsic+json": {
              "type": "string"
            }
          },
          "metadata": {},
          "execution_count": 4
        }
      ],
      "source": [
        "\"\"\"\n",
        "\n",
        "Рост числа супермаркетов в большинстве населенных городов увеличивается, и конкуренция на рынке также высока.\n",
        "Набор данных представляет собой один из исторических данных о продажах компании-супермаркета, который был зарегистрирован в 3 различных филиалах за 3 месяца.\n",
        "\n",
        "Поскольку данные исторические и имеют временную зависимость, в работе необходимо учесть порядок записей и при разбиении на трейн и тест следить за тем, чтобы данные в тесте были дальше на временном отрезке\n",
        "\"\"\""
      ],
      "metadata": {
        "pycharm": {
          "name": "#%%\n"
        },
        "id": "F9Dpw9t64DMo",
        "colab": {
          "base_uri": "https://localhost:8080/",
          "height": 88
        },
        "outputId": "a0f8a3cc-93d8-4913-eef5-7ead06622d5b"
      }
    },
    {
      "cell_type": "code",
      "execution_count": 5,
      "outputs": [],
      "source": [
        "import pandas as pd\n",
        "import matplotlib.pyplot as plt\n",
        "from sklearn.model_selection import train_test_split\n",
        "import seaborn as sns\n",
        "from sklearn.preprocessing import OneHotEncoder, StandardScaler, LabelEncoder\n",
        "from sklearn.compose import make_column_transformer\n",
        "from sklearn.metrics import confusion_matrix"
      ],
      "metadata": {
        "pycharm": {
          "name": "#%%\n"
        },
        "id": "rrPeybS64DMp"
      }
    },
    {
      "cell_type": "code",
      "source": [
        "features=pd.read_csv(\"/content/features.csv\")\n",
        "store=pd.read_csv(\"/content/stores.csv\")\n",
        "train=pd.read_csv(\"/content/train.csv\")\n",
        "test=pd.read_csv(\"/content/test.csv\")"
      ],
      "metadata": {
        "execution": {
          "iopub.status.busy": "2022-09-22T12:09:33.789963Z",
          "iopub.execute_input": "2022-09-22T12:09:33.790387Z",
          "iopub.status.idle": "2022-09-22T12:09:34.066934Z",
          "shell.execute_reply.started": "2022-09-22T12:09:33.790355Z",
          "shell.execute_reply": "2022-09-22T12:09:34.065468Z"
        },
        "trusted": true,
        "id": "W-chY0HU4DMq"
      },
      "execution_count": 6,
      "outputs": []
    },
    {
      "cell_type": "code",
      "source": [
        "train=train.groupby(['Store','Date'])['Weekly_Sales'].sum()\n",
        "train=train.reset_index()\n",
        "data=pd.merge(train,features,on=['Store','Date'],how='inner')\n",
        "data=pd.merge(data,store,on=['Store'],how='inner')\n",
        "data.head(10)"
      ],
      "metadata": {
        "execution": {
          "iopub.status.busy": "2022-09-22T12:09:34.158534Z",
          "iopub.execute_input": "2022-09-22T12:09:34.158872Z",
          "iopub.status.idle": "2022-09-22T12:09:34.251514Z",
          "shell.execute_reply.started": "2022-09-22T12:09:34.158842Z",
          "shell.execute_reply": "2022-09-22T12:09:34.250191Z"
        },
        "trusted": true,
        "colab": {
          "base_uri": "https://localhost:8080/",
          "height": 600
        },
        "id": "iQGRvgCY4DMq",
        "outputId": "0458b687-50af-452c-c5c6-297fc7cd9ae9"
      },
      "execution_count": 7,
      "outputs": [
        {
          "output_type": "execute_result",
          "data": {
            "text/plain": [
              "   Store        Date  Weekly_Sales  Temperature  Fuel_Price  MarkDown1  \\\n",
              "0      1  2010-02-05    1643690.90        42.31       2.572        NaN   \n",
              "1      1  2010-02-12    1641957.44        38.51       2.548        NaN   \n",
              "2      1  2010-02-19    1611968.17        39.93       2.514        NaN   \n",
              "3      1  2010-02-26    1409727.59        46.63       2.561        NaN   \n",
              "4      1  2010-03-05    1554806.68        46.50       2.625        NaN   \n",
              "5      1  2010-03-12    1439541.59        57.79       2.667        NaN   \n",
              "6      1  2010-03-19    1472515.79        54.58       2.720        NaN   \n",
              "7      1  2010-03-26    1404429.92        51.45       2.732        NaN   \n",
              "8      1  2010-04-02    1594968.28        62.27       2.719        NaN   \n",
              "9      1  2010-04-09    1545418.53        65.86       2.770        NaN   \n",
              "\n",
              "   MarkDown2  MarkDown3  MarkDown4  MarkDown5         CPI  Unemployment  \\\n",
              "0        NaN        NaN        NaN        NaN  211.096358         8.106   \n",
              "1        NaN        NaN        NaN        NaN  211.242170         8.106   \n",
              "2        NaN        NaN        NaN        NaN  211.289143         8.106   \n",
              "3        NaN        NaN        NaN        NaN  211.319643         8.106   \n",
              "4        NaN        NaN        NaN        NaN  211.350143         8.106   \n",
              "5        NaN        NaN        NaN        NaN  211.380643         8.106   \n",
              "6        NaN        NaN        NaN        NaN  211.215635         8.106   \n",
              "7        NaN        NaN        NaN        NaN  211.018042         8.106   \n",
              "8        NaN        NaN        NaN        NaN  210.820450         7.808   \n",
              "9        NaN        NaN        NaN        NaN  210.622857         7.808   \n",
              "\n",
              "   IsHoliday Type    Size  \n",
              "0      False    A  151315  \n",
              "1       True    A  151315  \n",
              "2      False    A  151315  \n",
              "3      False    A  151315  \n",
              "4      False    A  151315  \n",
              "5      False    A  151315  \n",
              "6      False    A  151315  \n",
              "7      False    A  151315  \n",
              "8      False    A  151315  \n",
              "9      False    A  151315  "
            ],
            "text/html": [
              "\n",
              "  <div id=\"df-71bc6b90-c1a8-4cb2-9e6f-3e33d0f003e9\">\n",
              "    <div class=\"colab-df-container\">\n",
              "      <div>\n",
              "<style scoped>\n",
              "    .dataframe tbody tr th:only-of-type {\n",
              "        vertical-align: middle;\n",
              "    }\n",
              "\n",
              "    .dataframe tbody tr th {\n",
              "        vertical-align: top;\n",
              "    }\n",
              "\n",
              "    .dataframe thead th {\n",
              "        text-align: right;\n",
              "    }\n",
              "</style>\n",
              "<table border=\"1\" class=\"dataframe\">\n",
              "  <thead>\n",
              "    <tr style=\"text-align: right;\">\n",
              "      <th></th>\n",
              "      <th>Store</th>\n",
              "      <th>Date</th>\n",
              "      <th>Weekly_Sales</th>\n",
              "      <th>Temperature</th>\n",
              "      <th>Fuel_Price</th>\n",
              "      <th>MarkDown1</th>\n",
              "      <th>MarkDown2</th>\n",
              "      <th>MarkDown3</th>\n",
              "      <th>MarkDown4</th>\n",
              "      <th>MarkDown5</th>\n",
              "      <th>CPI</th>\n",
              "      <th>Unemployment</th>\n",
              "      <th>IsHoliday</th>\n",
              "      <th>Type</th>\n",
              "      <th>Size</th>\n",
              "    </tr>\n",
              "  </thead>\n",
              "  <tbody>\n",
              "    <tr>\n",
              "      <th>0</th>\n",
              "      <td>1</td>\n",
              "      <td>2010-02-05</td>\n",
              "      <td>1643690.90</td>\n",
              "      <td>42.31</td>\n",
              "      <td>2.572</td>\n",
              "      <td>NaN</td>\n",
              "      <td>NaN</td>\n",
              "      <td>NaN</td>\n",
              "      <td>NaN</td>\n",
              "      <td>NaN</td>\n",
              "      <td>211.096358</td>\n",
              "      <td>8.106</td>\n",
              "      <td>False</td>\n",
              "      <td>A</td>\n",
              "      <td>151315</td>\n",
              "    </tr>\n",
              "    <tr>\n",
              "      <th>1</th>\n",
              "      <td>1</td>\n",
              "      <td>2010-02-12</td>\n",
              "      <td>1641957.44</td>\n",
              "      <td>38.51</td>\n",
              "      <td>2.548</td>\n",
              "      <td>NaN</td>\n",
              "      <td>NaN</td>\n",
              "      <td>NaN</td>\n",
              "      <td>NaN</td>\n",
              "      <td>NaN</td>\n",
              "      <td>211.242170</td>\n",
              "      <td>8.106</td>\n",
              "      <td>True</td>\n",
              "      <td>A</td>\n",
              "      <td>151315</td>\n",
              "    </tr>\n",
              "    <tr>\n",
              "      <th>2</th>\n",
              "      <td>1</td>\n",
              "      <td>2010-02-19</td>\n",
              "      <td>1611968.17</td>\n",
              "      <td>39.93</td>\n",
              "      <td>2.514</td>\n",
              "      <td>NaN</td>\n",
              "      <td>NaN</td>\n",
              "      <td>NaN</td>\n",
              "      <td>NaN</td>\n",
              "      <td>NaN</td>\n",
              "      <td>211.289143</td>\n",
              "      <td>8.106</td>\n",
              "      <td>False</td>\n",
              "      <td>A</td>\n",
              "      <td>151315</td>\n",
              "    </tr>\n",
              "    <tr>\n",
              "      <th>3</th>\n",
              "      <td>1</td>\n",
              "      <td>2010-02-26</td>\n",
              "      <td>1409727.59</td>\n",
              "      <td>46.63</td>\n",
              "      <td>2.561</td>\n",
              "      <td>NaN</td>\n",
              "      <td>NaN</td>\n",
              "      <td>NaN</td>\n",
              "      <td>NaN</td>\n",
              "      <td>NaN</td>\n",
              "      <td>211.319643</td>\n",
              "      <td>8.106</td>\n",
              "      <td>False</td>\n",
              "      <td>A</td>\n",
              "      <td>151315</td>\n",
              "    </tr>\n",
              "    <tr>\n",
              "      <th>4</th>\n",
              "      <td>1</td>\n",
              "      <td>2010-03-05</td>\n",
              "      <td>1554806.68</td>\n",
              "      <td>46.50</td>\n",
              "      <td>2.625</td>\n",
              "      <td>NaN</td>\n",
              "      <td>NaN</td>\n",
              "      <td>NaN</td>\n",
              "      <td>NaN</td>\n",
              "      <td>NaN</td>\n",
              "      <td>211.350143</td>\n",
              "      <td>8.106</td>\n",
              "      <td>False</td>\n",
              "      <td>A</td>\n",
              "      <td>151315</td>\n",
              "    </tr>\n",
              "    <tr>\n",
              "      <th>5</th>\n",
              "      <td>1</td>\n",
              "      <td>2010-03-12</td>\n",
              "      <td>1439541.59</td>\n",
              "      <td>57.79</td>\n",
              "      <td>2.667</td>\n",
              "      <td>NaN</td>\n",
              "      <td>NaN</td>\n",
              "      <td>NaN</td>\n",
              "      <td>NaN</td>\n",
              "      <td>NaN</td>\n",
              "      <td>211.380643</td>\n",
              "      <td>8.106</td>\n",
              "      <td>False</td>\n",
              "      <td>A</td>\n",
              "      <td>151315</td>\n",
              "    </tr>\n",
              "    <tr>\n",
              "      <th>6</th>\n",
              "      <td>1</td>\n",
              "      <td>2010-03-19</td>\n",
              "      <td>1472515.79</td>\n",
              "      <td>54.58</td>\n",
              "      <td>2.720</td>\n",
              "      <td>NaN</td>\n",
              "      <td>NaN</td>\n",
              "      <td>NaN</td>\n",
              "      <td>NaN</td>\n",
              "      <td>NaN</td>\n",
              "      <td>211.215635</td>\n",
              "      <td>8.106</td>\n",
              "      <td>False</td>\n",
              "      <td>A</td>\n",
              "      <td>151315</td>\n",
              "    </tr>\n",
              "    <tr>\n",
              "      <th>7</th>\n",
              "      <td>1</td>\n",
              "      <td>2010-03-26</td>\n",
              "      <td>1404429.92</td>\n",
              "      <td>51.45</td>\n",
              "      <td>2.732</td>\n",
              "      <td>NaN</td>\n",
              "      <td>NaN</td>\n",
              "      <td>NaN</td>\n",
              "      <td>NaN</td>\n",
              "      <td>NaN</td>\n",
              "      <td>211.018042</td>\n",
              "      <td>8.106</td>\n",
              "      <td>False</td>\n",
              "      <td>A</td>\n",
              "      <td>151315</td>\n",
              "    </tr>\n",
              "    <tr>\n",
              "      <th>8</th>\n",
              "      <td>1</td>\n",
              "      <td>2010-04-02</td>\n",
              "      <td>1594968.28</td>\n",
              "      <td>62.27</td>\n",
              "      <td>2.719</td>\n",
              "      <td>NaN</td>\n",
              "      <td>NaN</td>\n",
              "      <td>NaN</td>\n",
              "      <td>NaN</td>\n",
              "      <td>NaN</td>\n",
              "      <td>210.820450</td>\n",
              "      <td>7.808</td>\n",
              "      <td>False</td>\n",
              "      <td>A</td>\n",
              "      <td>151315</td>\n",
              "    </tr>\n",
              "    <tr>\n",
              "      <th>9</th>\n",
              "      <td>1</td>\n",
              "      <td>2010-04-09</td>\n",
              "      <td>1545418.53</td>\n",
              "      <td>65.86</td>\n",
              "      <td>2.770</td>\n",
              "      <td>NaN</td>\n",
              "      <td>NaN</td>\n",
              "      <td>NaN</td>\n",
              "      <td>NaN</td>\n",
              "      <td>NaN</td>\n",
              "      <td>210.622857</td>\n",
              "      <td>7.808</td>\n",
              "      <td>False</td>\n",
              "      <td>A</td>\n",
              "      <td>151315</td>\n",
              "    </tr>\n",
              "  </tbody>\n",
              "</table>\n",
              "</div>\n",
              "      <button class=\"colab-df-convert\" onclick=\"convertToInteractive('df-71bc6b90-c1a8-4cb2-9e6f-3e33d0f003e9')\"\n",
              "              title=\"Convert this dataframe to an interactive table.\"\n",
              "              style=\"display:none;\">\n",
              "        \n",
              "  <svg xmlns=\"http://www.w3.org/2000/svg\" height=\"24px\"viewBox=\"0 0 24 24\"\n",
              "       width=\"24px\">\n",
              "    <path d=\"M0 0h24v24H0V0z\" fill=\"none\"/>\n",
              "    <path d=\"M18.56 5.44l.94 2.06.94-2.06 2.06-.94-2.06-.94-.94-2.06-.94 2.06-2.06.94zm-11 1L8.5 8.5l.94-2.06 2.06-.94-2.06-.94L8.5 2.5l-.94 2.06-2.06.94zm10 10l.94 2.06.94-2.06 2.06-.94-2.06-.94-.94-2.06-.94 2.06-2.06.94z\"/><path d=\"M17.41 7.96l-1.37-1.37c-.4-.4-.92-.59-1.43-.59-.52 0-1.04.2-1.43.59L10.3 9.45l-7.72 7.72c-.78.78-.78 2.05 0 2.83L4 21.41c.39.39.9.59 1.41.59.51 0 1.02-.2 1.41-.59l7.78-7.78 2.81-2.81c.8-.78.8-2.07 0-2.86zM5.41 20L4 18.59l7.72-7.72 1.47 1.35L5.41 20z\"/>\n",
              "  </svg>\n",
              "      </button>\n",
              "      \n",
              "  <style>\n",
              "    .colab-df-container {\n",
              "      display:flex;\n",
              "      flex-wrap:wrap;\n",
              "      gap: 12px;\n",
              "    }\n",
              "\n",
              "    .colab-df-convert {\n",
              "      background-color: #E8F0FE;\n",
              "      border: none;\n",
              "      border-radius: 50%;\n",
              "      cursor: pointer;\n",
              "      display: none;\n",
              "      fill: #1967D2;\n",
              "      height: 32px;\n",
              "      padding: 0 0 0 0;\n",
              "      width: 32px;\n",
              "    }\n",
              "\n",
              "    .colab-df-convert:hover {\n",
              "      background-color: #E2EBFA;\n",
              "      box-shadow: 0px 1px 2px rgba(60, 64, 67, 0.3), 0px 1px 3px 1px rgba(60, 64, 67, 0.15);\n",
              "      fill: #174EA6;\n",
              "    }\n",
              "\n",
              "    [theme=dark] .colab-df-convert {\n",
              "      background-color: #3B4455;\n",
              "      fill: #D2E3FC;\n",
              "    }\n",
              "\n",
              "    [theme=dark] .colab-df-convert:hover {\n",
              "      background-color: #434B5C;\n",
              "      box-shadow: 0px 1px 3px 1px rgba(0, 0, 0, 0.15);\n",
              "      filter: drop-shadow(0px 1px 2px rgba(0, 0, 0, 0.3));\n",
              "      fill: #FFFFFF;\n",
              "    }\n",
              "  </style>\n",
              "\n",
              "      <script>\n",
              "        const buttonEl =\n",
              "          document.querySelector('#df-71bc6b90-c1a8-4cb2-9e6f-3e33d0f003e9 button.colab-df-convert');\n",
              "        buttonEl.style.display =\n",
              "          google.colab.kernel.accessAllowed ? 'block' : 'none';\n",
              "\n",
              "        async function convertToInteractive(key) {\n",
              "          const element = document.querySelector('#df-71bc6b90-c1a8-4cb2-9e6f-3e33d0f003e9');\n",
              "          const dataTable =\n",
              "            await google.colab.kernel.invokeFunction('convertToInteractive',\n",
              "                                                     [key], {});\n",
              "          if (!dataTable) return;\n",
              "\n",
              "          const docLinkHtml = 'Like what you see? Visit the ' +\n",
              "            '<a target=\"_blank\" href=https://colab.research.google.com/notebooks/data_table.ipynb>data table notebook</a>'\n",
              "            + ' to learn more about interactive tables.';\n",
              "          element.innerHTML = '';\n",
              "          dataTable['output_type'] = 'display_data';\n",
              "          await google.colab.output.renderOutput(dataTable, element);\n",
              "          const docLink = document.createElement('div');\n",
              "          docLink.innerHTML = docLinkHtml;\n",
              "          element.appendChild(docLink);\n",
              "        }\n",
              "      </script>\n",
              "    </div>\n",
              "  </div>\n",
              "  "
            ]
          },
          "metadata": {},
          "execution_count": 7
        }
      ]
    },
    {
      "cell_type": "code",
      "source": [
        "sns.boxplot(x='Type',y='Weekly_Sales',data=data)"
      ],
      "metadata": {
        "execution": {
          "iopub.status.busy": "2022-09-22T12:09:34.476538Z",
          "iopub.execute_input": "2022-09-22T12:09:34.477607Z",
          "iopub.status.idle": "2022-09-22T12:09:34.652182Z",
          "shell.execute_reply.started": "2022-09-22T12:09:34.477557Z",
          "shell.execute_reply": "2022-09-22T12:09:34.650848Z"
        },
        "trusted": true,
        "colab": {
          "base_uri": "https://localhost:8080/",
          "height": 307
        },
        "id": "oODlApfy4DMr",
        "outputId": "74a5d6f3-6d96-4020-f62d-742bc980dfbc"
      },
      "execution_count": 8,
      "outputs": [
        {
          "output_type": "execute_result",
          "data": {
            "text/plain": [
              "<matplotlib.axes._subplots.AxesSubplot at 0x7f18b73033a0>"
            ]
          },
          "metadata": {},
          "execution_count": 8
        },
        {
          "output_type": "display_data",
          "data": {
            "text/plain": [
              "<Figure size 432x288 with 1 Axes>"
            ],
            "image/png": "[encoded data removed]"
          },
          "metadata": {
            "needs_background": "light"
          }
        }
      ]
    },
    {
      "cell_type": "code",
      "source": [
        "sns.countplot(x=\"IsHoliday\", data=data)"
      ],
      "metadata": {
        "execution": {
          "iopub.status.busy": "2022-09-22T12:09:34.850657Z",
          "iopub.execute_input": "2022-09-22T12:09:34.851379Z",
          "iopub.status.idle": "2022-09-22T12:09:34.987476Z",
          "shell.execute_reply.started": "2022-09-22T12:09:34.851333Z",
          "shell.execute_reply": "2022-09-22T12:09:34.986211Z"
        },
        "trusted": true,
        "colab": {
          "base_uri": "https://localhost:8080/",
          "height": 296
        },
        "id": "d8f-Dy3X4DMr",
        "outputId": "107808b1-6221-45e5-8560-59367b6e9960"
      },
      "execution_count": 9,
      "outputs": [
        {
          "output_type": "execute_result",
          "data": {
            "text/plain": [
              "<matplotlib.axes._subplots.AxesSubplot at 0x7f18ca926130>"
            ]
          },
          "metadata": {},
          "execution_count": 9
        },
        {
          "output_type": "display_data",
          "data": {
            "text/plain": [
              "<Figure size 432x288 with 1 Axes>"
            ],
            "image/png": "[encoded data removed]"
          },
          "metadata": {
            "needs_background": "light"
          }
        }
      ]
    },
    {
      "cell_type": "code",
      "source": [
        "data.isnull().sum()"
      ],
      "metadata": {
        "execution": {
          "iopub.status.busy": "2022-09-22T12:09:34.992279Z",
          "iopub.execute_input": "2022-09-22T12:09:34.993108Z",
          "iopub.status.idle": "2022-09-22T12:09:35.010548Z",
          "shell.execute_reply.started": "2022-09-22T12:09:34.993056Z",
          "shell.execute_reply": "2022-09-22T12:09:35.008572Z"
        },
        "trusted": true,
        "colab": {
          "base_uri": "https://localhost:8080/"
        },
        "id": "WDu7JIm64DMs",
        "outputId": "a02f31e1-2392-4a57-d4fa-5e9f3cbbd80d"
      },
      "execution_count": 10,
      "outputs": [
        {
          "output_type": "execute_result",
          "data": {
            "text/plain": [
              "Store              0\n",
              "Date               0\n",
              "Weekly_Sales       0\n",
              "Temperature        0\n",
              "Fuel_Price         0\n",
              "MarkDown1       4155\n",
              "MarkDown2       4798\n",
              "MarkDown3       4389\n",
              "MarkDown4       4470\n",
              "MarkDown5       4140\n",
              "CPI                0\n",
              "Unemployment       0\n",
              "IsHoliday          0\n",
              "Type               0\n",
              "Size               0\n",
              "dtype: int64"
            ]
          },
          "metadata": {},
          "execution_count": 10
        }
      ]
    },
    {
      "cell_type": "code",
      "execution_count": 11,
      "outputs": [],
      "source": [
        "\"\"\"\n",
        "Признаки 'MarkDown1','MarkDown2','MarkDown3','MarkDown4','MarkDown5' имеют большое кол-во пропусков, не совсем понятно, как их заполнять.\n",
        "Использовать их не представляется возможным, поэтому придется удалить.\n",
        "\"\"\"\n",
        "\n",
        "data=data.drop(['MarkDown1','MarkDown2','MarkDown3','MarkDown4','MarkDown5'],axis=1)"
      ],
      "metadata": {
        "pycharm": {
          "name": "#%%\n"
        },
        "id": "SXvl1D3J4DMs"
      }
    },
    {
      "cell_type": "code",
      "source": [
        "data['Holiday']=[int(i) for i in list(data.IsHoliday)]"
      ],
      "metadata": {
        "execution": {
          "iopub.status.busy": "2022-09-22T12:09:37.702308Z",
          "iopub.execute_input": "2022-09-22T12:09:37.703773Z",
          "iopub.status.idle": "2022-09-22T12:09:37.730303Z",
          "shell.execute_reply.started": "2022-09-22T12:09:37.7037Z",
          "shell.execute_reply": "2022-09-22T12:09:37.728929Z"
        },
        "trusted": true,
        "id": "J0iK9Dmr4DMs"
      },
      "execution_count": 12,
      "outputs": []
    },
    {
      "cell_type": "code",
      "source": [
        "Type_dummy=pd.get_dummies(data['Type'],drop_first=True)\n",
        "data=pd.concat([data,Type_dummy],axis=1)\n",
        "data=data.drop(['Type','IsHoliday'],axis=1)"
      ],
      "metadata": {
        "execution": {
          "iopub.status.busy": "2022-09-22T12:09:37.73199Z",
          "iopub.execute_input": "2022-09-22T12:09:37.732458Z",
          "iopub.status.idle": "2022-09-22T12:09:37.747639Z",
          "shell.execute_reply.started": "2022-09-22T12:09:37.732415Z",
          "shell.execute_reply": "2022-09-22T12:09:37.746317Z"
        },
        "trusted": true,
        "id": "wWtcUxUx4DMs"
      },
      "execution_count": 13,
      "outputs": []
    },
    {
      "cell_type": "code",
      "source": [
        "\"\"\"\n",
        "Как уже было сказано, данные имеют временную зависимость, для учета этой особенности мы отсортируем по времени наш набор таким образом, чтобы последние данные были в конце\n",
        "и далее при использовании TrainTestSplit не будем смешивать данные, разделим ровно как есть чтобы не нарушить хронологию.\n",
        "\"\"\""
      ],
      "metadata": {
        "id": "xCWxRVC3j9Qo",
        "colab": {
          "base_uri": "https://localhost:8080/",
          "height": 70
        },
        "outputId": "94637239-6579-4ade-8d67-16070beee27b"
      },
      "execution_count": 14,
      "outputs": [
        {
          "output_type": "execute_result",
          "data": {
            "text/plain": [
              "'\\nКак уже было сказано, данные имеют временную зависимость, для учета этой особенности мы отсортируем по времени наш набор таким образом, чтобы последние данные были в конце\\nи далее при использовании TrainTestSplit не будем смешивать данные, разделим ровно как есть чтобы не нарушить хронологию.\\n'"
            ],
            "application/vnd.google.colaboratory.intrinsic+json": {
              "type": "string"
            }
          },
          "metadata": {},
          "execution_count": 14
        }
      ]
    },
    {
      "cell_type": "code",
      "source": [
        "data = data.sort_values(by = 'Date')\n",
        "print(data)"
      ],
      "metadata": {
        "colab": {
          "base_uri": "https://localhost:8080/"
        },
        "id": "xgo1urdd5Huw",
        "outputId": "c8f929d3-9943-44f2-e5e6-2954bb533632"
      },
      "execution_count": 15,
      "outputs": [
        {
          "output_type": "stream",
          "name": "stdout",
          "text": [
            "      Store        Date  Weekly_Sales  Temperature  Fuel_Price         CPI  \\\n",
            "0         1  2010-02-05    1643690.90        42.31       2.572  211.096358   \n",
            "1287     10  2010-02-05    2193048.75        54.34       2.962  126.442065   \n",
            "5148     37  2010-02-05     536006.73        45.97       2.572  209.852966   \n",
            "2288     17  2010-02-05     789036.02        23.11       2.666  126.442065   \n",
            "4147     30  2010-02-05     465108.52        39.05       2.572  210.752605   \n",
            "...     ...         ...           ...          ...         ...         ...   \n",
            "3574     25  2012-10-26     688940.94        56.69       3.882  216.151590   \n",
            "714       5  2012-10-26     319550.77        71.70       3.506  224.037814   \n",
            "5719     40  2012-10-26     921264.52        49.65       3.917  138.728161   \n",
            "2573     18  2012-10-26    1127516.25        56.09       3.917  138.728161   \n",
            "6434     45  2012-10-26     760281.43        58.85       3.882  192.308899   \n",
            "\n",
            "      Unemployment    Size  Holiday  B  C  \n",
            "0            8.106  151315        0  0  0  \n",
            "1287         9.765  126512        0  1  0  \n",
            "5148         8.554   39910        0  0  1  \n",
            "2288         6.548   93188        0  1  0  \n",
            "4147         8.324   42988        0  0  1  \n",
            "...            ...     ...      ... .. ..  \n",
            "3574         7.293  128107        0  1  0  \n",
            "714          5.422   34875        0  1  0  \n",
            "5719         4.145  155083        0  0  0  \n",
            "2573         8.243  120653        0  1  0  \n",
            "6434         8.667  118221        0  1  0  \n",
            "\n",
            "[6435 rows x 11 columns]\n"
          ]
        }
      ]
    },
    {
      "cell_type": "code",
      "source": [
        "X=data.drop(['Weekly_Sales','Store','Date'],axis=1)\n",
        "y=data['Weekly_Sales']"
      ],
      "metadata": {
        "execution": {
          "iopub.status.busy": "2022-09-22T12:09:37.810636Z",
          "iopub.execute_input": "2022-09-22T12:09:37.811167Z",
          "iopub.status.idle": "2022-09-22T12:09:37.822038Z",
          "shell.execute_reply.started": "2022-09-22T12:09:37.811122Z",
          "shell.execute_reply": "2022-09-22T12:09:37.820567Z"
        },
        "trusted": true,
        "id": "AHayz5ib4DMt"
      },
      "execution_count": 16,
      "outputs": []
    },
    {
      "cell_type": "code",
      "execution_count": 17,
      "outputs": [],
      "source": [
        "nom_cols=[8]\n",
        "\n",
        "scale_cols=[0,3]"
      ],
      "metadata": {
        "pycharm": {
          "name": "#%%\n"
        },
        "id": "P6lTDhbn4DMt"
      }
    },
    {
      "cell_type": "code",
      "source": [
        "fig = plt.figure(figsize=(10,10))\n",
        "fig.patch.set_facecolor('white')\n",
        "cor = X.corr()\n",
        "sns.heatmap(cor, annot=True, cmap=plt.cm.Reds,fmt='.2f', vmin=-1, vmax=1)"
      ],
      "metadata": {
        "colab": {
          "base_uri": "https://localhost:8080/",
          "height": 679
        },
        "id": "j7PzdITdgrJ-",
        "outputId": "aee0e94d-e6a1-43be-a5ad-c90d0fc30736"
      },
      "execution_count": 18,
      "outputs": [
        {
          "output_type": "execute_result",
          "data": {
            "text/plain": [
              "<matplotlib.axes._subplots.AxesSubplot at 0x7f18b72002b0>"
            ]
          },
          "metadata": {},
          "execution_count": 18
        },
        {
          "output_type": "display_data",
          "data": {
            "text/plain": [
              "<Figure size 720x720 with 2 Axes>"
            ],
            "image/png": "[encoded data removed]"
          },
          "metadata": {}
        }
      ]
    },
    {
      "cell_type": "code",
      "source": [
        "\"\"\"\n",
        "Как видно по матрице корреляций, прямых зависимостей в данных нет, соответственно мультиколлинеарность не повлияет на результаты работы моделей.\n",
        "\n",
        "\"\"\""
      ],
      "metadata": {
        "id": "opeh_k92kgqw",
        "colab": {
          "base_uri": "https://localhost:8080/",
          "height": 53
        },
        "outputId": "b3218e1d-775f-4772-8561-5f056445f4a5"
      },
      "execution_count": 19,
      "outputs": [
        {
          "output_type": "execute_result",
          "data": {
            "text/plain": [
              "'\\nКак видно по матрице корреляций, прямых зависимостей в данных нет, соответственно мультиколлинеарность не повлияет на результаты работы моделей.\\n\\n'"
            ],
            "application/vnd.google.colaboratory.intrinsic+json": {
              "type": "string"
            }
          },
          "metadata": {},
          "execution_count": 19
        }
      ]
    },
    {
      "cell_type": "code",
      "source": [
        "transf = make_column_transformer((OneHotEncoder(sparse=False,drop='first'), nom_cols),\n",
        "                                 (StandardScaler(), scale_cols),\n",
        "                                 remainder='passthrough')\n",
        "transf\n",
        "\n",
        "lab = LabelEncoder()\n",
        "y = lab.fit_transform(y)\n",
        "\n",
        "x_train, x_test, y_train, y_test = train_test_split(X, y, test_size=0.2, random_state=42, shuffle=False)"
      ],
      "metadata": {
        "execution": {
          "iopub.status.busy": "2022-09-22T12:09:42.022722Z",
          "iopub.execute_input": "2022-09-22T12:09:42.023234Z",
          "iopub.status.idle": "2022-09-22T12:09:42.038972Z",
          "shell.execute_reply.started": "2022-09-22T12:09:42.023194Z",
          "shell.execute_reply": "2022-09-22T12:09:42.037485Z"
        },
        "trusted": true,
        "id": "caUqlFyJ4DMt"
      },
      "execution_count": 20,
      "outputs": []
    },
    {
      "cell_type": "markdown",
      "source": [
        "Для эффективной работы моделей, в ходе экспериментов были подобраные оптимальные гиперпараметры, которые будут использованы при подсчете финальных метрик на тестовой выборке. "
      ],
      "metadata": {
        "id": "-_Xd4fUZ2aW8"
      }
    },
    {
      "cell_type": "code",
      "source": [
        "import matplotlib.patches as mpatches\n",
        "from sklearn.neighbors import KNeighborsRegressor\n",
        "from sklearn.metrics import mean_absolute_error\n",
        "from sklearn.metrics import r2_score\n",
        "\n",
        "r2_list = []\n",
        "mae_list = []\n",
        "param_list = []\n",
        "\n",
        "for i in range(2, 50, 3):\n",
        "  knn_c = KNeighborsRegressor(n_neighbors=i, algorithm=\"kd_tree\", metric=\"minkowski\")\n",
        "  knn_c.fit(x_train, y_train)\n",
        "  y_pred_knn=knn_c.predict(x_test)\n",
        "  print(f'KNeighborsRegressor with {i} n_neighbors MAE: {mean_absolute_error(y_true=y_test, y_pred=y_pred_knn)}, r2: {r2_score(y_true=y_test, y_pred=y_pred_knn)}')\n",
        "  r2_list.append(r2_score(y_true=y_test, y_pred=y_pred_knn))\n",
        "  mae_list.append(mean_absolute_error(y_true=y_test, y_pred=y_pred_knn))\n",
        "  param_list.append(i)\n",
        "\n",
        "\n",
        "r2_patch = mpatches.Patch(color='red', label='r2_error')\n",
        "mae_patch = mpatches.Patch(color='blue', label='MAE_error')\n",
        "plt.legend(handles=[mae_patch])\n",
        "\n",
        "plt.plot(param_list, mae_list, c='blue', linestyle=\"-\")\n"
      ],
      "metadata": {
        "colab": {
          "base_uri": "https://localhost:8080/",
          "height": 560
        },
        "id": "Vr9Vrg8f7AcG",
        "outputId": "2f39ab84-fbcd-4d0a-abd0-18ffabd72c81"
      },
      "execution_count": 21,
      "outputs": [
        {
          "output_type": "stream",
          "name": "stdout",
          "text": [
            "KNeighborsRegressor with 2 n_neighbors MAE: 279.37606837606836, r2: 0.9571370897685573\n",
            "KNeighborsRegressor with 5 n_neighbors MAE: 251.5951825951826, r2: 0.9666578555460781\n",
            "KNeighborsRegressor with 8 n_neighbors MAE: 240.96649184149183, r2: 0.9690925298154629\n",
            "KNeighborsRegressor with 11 n_neighbors MAE: 243.83343928798473, r2: 0.9680151742846965\n",
            "KNeighborsRegressor with 14 n_neighbors MAE: 247.24747474747474, r2: 0.9676598613241988\n",
            "KNeighborsRegressor with 17 n_neighbors MAE: 247.8281457104987, r2: 0.9678119220967278\n",
            "KNeighborsRegressor with 20 n_neighbors MAE: 250.0448329448329, r2: 0.9674638144161543\n",
            "KNeighborsRegressor with 23 n_neighbors MAE: 253.79058139927704, r2: 0.9665331348002856\n",
            "KNeighborsRegressor with 26 n_neighbors MAE: 257.0712748789672, r2: 0.9657102237046709\n",
            "KNeighborsRegressor with 29 n_neighbors MAE: 260.3932159794229, r2: 0.9646660717792717\n",
            "KNeighborsRegressor with 32 n_neighbors MAE: 263.2934149184149, r2: 0.9640228589344224\n",
            "KNeighborsRegressor with 35 n_neighbors MAE: 264.9585525585526, r2: 0.9635968122417572\n",
            "KNeighborsRegressor with 38 n_neighbors MAE: 266.8439250807672, r2: 0.9632333509558862\n",
            "KNeighborsRegressor with 41 n_neighbors MAE: 268.3869274357079, r2: 0.9628049683105002\n",
            "KNeighborsRegressor with 44 n_neighbors MAE: 270.3663028890301, r2: 0.9624104594710585\n",
            "KNeighborsRegressor with 47 n_neighbors MAE: 271.9718295888509, r2: 0.9619243726244445\n"
          ]
        },
        {
          "output_type": "execute_result",
          "data": {
            "text/plain": [
              "[<matplotlib.lines.Line2D at 0x7f18b3de6070>]"
            ]
          },
          "metadata": {},
          "execution_count": 21
        },
        {
          "output_type": "display_data",
          "data": {
            "text/plain": [
              "<Figure size 432x288 with 1 Axes>"
            ],
            "image/png": "[encoded data removed]"
          },
          "metadata": {
            "needs_background": "light"
          }
        }
      ]
    },
    {
      "cell_type": "code",
      "source": [
        "plt.legend(handles=[r2_patch])\n",
        "plt.plot(param_list, r2_list, c='red', linestyle=\"-\")"
      ],
      "metadata": {
        "colab": {
          "base_uri": "https://localhost:8080/",
          "height": 282
        },
        "id": "K4MHI7fOj87h",
        "outputId": "de6ef3e2-7bcf-45d5-c592-f7f81b157901"
      },
      "execution_count": 22,
      "outputs": [
        {
          "output_type": "execute_result",
          "data": {
            "text/plain": [
              "[<matplotlib.lines.Line2D at 0x7f18b3dbeaf0>]"
            ]
          },
          "metadata": {},
          "execution_count": 22
        },
        {
          "output_type": "display_data",
          "data": {
            "text/plain": [
              "<Figure size 432x288 with 1 Axes>"
            ],
            "image/png": "[encoded data removed]"
          },
          "metadata": {
            "needs_background": "light"
          }
        }
      ]
    },
    {
      "cell_type": "code",
      "execution_count": 23,
      "outputs": [
        {
          "output_type": "stream",
          "name": "stdout",
          "text": [
            "KNN MAE: 240.96649184149183, r2: 0.9690925298154629\n"
          ]
        }
      ],
      "source": [
        "from sklearn.neighbors import KNeighborsRegressor\n",
        "from sklearn.metrics import mean_absolute_error, r2_score\n",
        "\n",
        "knn_c = KNeighborsRegressor(n_neighbors=8, algorithm=\"kd_tree\", metric=\"minkowski\")\n",
        "knn_c.fit(x_train, y_train)\n",
        "y_pred_knn=knn_c.predict(x_test)\n",
        "\n",
        "print(f'KNN MAE: {mean_absolute_error(y_true=y_test, y_pred=y_pred_knn)}, r2: {r2_score(y_true=y_test, y_pred=y_pred_knn)}')\n"
      ],
      "metadata": {
        "pycharm": {
          "name": "#%%\n"
        },
        "colab": {
          "base_uri": "https://localhost:8080/"
        },
        "id": "_dusJkaM4DMt",
        "outputId": "5ec089c0-760b-469c-f3bd-48834d5dc483"
      }
    },
    {
      "cell_type": "code",
      "source": [
        "from sklearn.ensemble import RandomForestRegressor\n",
        "r2_list = []\n",
        "param_list = []\n",
        "mae_list = []\n",
        "\n",
        "for i in range(10, 400, 15):\n",
        "  clf_rf = RandomForestRegressor(n_estimators=i, criterion = \"squared_error\", random_state = 42)\n",
        "  clf_rf.fit(x_train, y_train)\n",
        "  y_pred_rf=clf_rf.predict(x_test)\n",
        "  print(f'RandomForest with {i} estimators MAE: {mean_absolute_error(y_true=y_test, y_pred=y_pred_rf)}, r2: {r2_score(y_true=y_test, y_pred=y_pred_rf)}')\n",
        "  r2_list.append(r2_score(y_true=y_test, y_pred=y_pred_rf))\n",
        "  mae_list.append(mean_absolute_error(y_true=y_test, y_pred=y_pred_rf))\n",
        "  param_list.append(i)\n",
        "\n",
        "r2_patch = mpatches.Patch(color='red', label='r2_error')\n",
        "mae_patch = mpatches.Patch(color='blue', label='MAE_error')\n",
        "plt.legend(handles=[mae_patch])\n",
        "plt.plot(param_list, mae_list, c='blue', linestyle=\"-\")\n"
      ],
      "metadata": {
        "colab": {
          "base_uri": "https://localhost:8080/",
          "height": 733
        },
        "id": "vcDmX4jI5oOO",
        "outputId": "6bfd945f-5b2f-45fa-d211-0cd9976e0008"
      },
      "execution_count": 24,
      "outputs": [
        {
          "output_type": "stream",
          "name": "stdout",
          "text": [
            "RandomForest with 10 estimators MAE: 264.31841491841493, r2: 0.9639552062308241\n",
            "RandomForest with 25 estimators MAE: 261.95027195027194, r2: 0.9655336019587525\n",
            "RandomForest with 40 estimators MAE: 259.1398018648019, r2: 0.9659060112016784\n",
            "RandomForest with 55 estimators MAE: 255.61104753832024, r2: 0.9672617200531918\n",
            "RandomForest with 70 estimators MAE: 254.17747807747807, r2: 0.9675188497572783\n",
            "RandomForest with 85 estimators MAE: 255.38110516934046, r2: 0.9670925318520452\n",
            "RandomForest with 100 estimators MAE: 254.8849728049728, r2: 0.9672074311286869\n",
            "RandomForest with 115 estimators MAE: 252.72092159048682, r2: 0.9676232043868611\n",
            "RandomForest with 130 estimators MAE: 253.70691530691533, r2: 0.9674330498020154\n",
            "RandomForest with 145 estimators MAE: 253.14555100072337, r2: 0.9675447844706964\n",
            "RandomForest with 160 estimators MAE: 253.24839743589743, r2: 0.9675156890760951\n",
            "RandomForest with 175 estimators MAE: 253.566810966811, r2: 0.9673425870579334\n",
            "RandomForest with 190 estimators MAE: 252.96963562753035, r2: 0.9674606554889235\n",
            "RandomForest with 205 estimators MAE: 253.33986772035556, r2: 0.9673863275465364\n",
            "RandomForest with 220 estimators MAE: 254.88907254361797, r2: 0.9668534146908672\n",
            "RandomForest with 235 estimators MAE: 254.48049397411103, r2: 0.9668416819661855\n",
            "RandomForest with 250 estimators MAE: 255.50518414918412, r2: 0.9666187591468737\n",
            "RandomForest with 265 estimators MAE: 255.45083051120787, r2: 0.9665438534347134\n",
            "RandomForest with 280 estimators MAE: 255.3542041292041, r2: 0.9664612383830267\n",
            "RandomForest with 295 estimators MAE: 255.7428838581381, r2: 0.9663219797041744\n",
            "RandomForest with 310 estimators MAE: 256.0949469884954, r2: 0.9661830349232253\n",
            "RandomForest with 325 estimators MAE: 256.13594883748726, r2: 0.9662008414465757\n",
            "RandomForest with 340 estimators MAE: 256.0398509986746, r2: 0.9663414809956381\n",
            "RandomForest with 355 estimators MAE: 256.59849196187224, r2: 0.9662238597706435\n",
            "RandomForest with 370 estimators MAE: 257.0856401856402, r2: 0.9660315092077187\n",
            "RandomForest with 385 estimators MAE: 257.7855619128346, r2: 0.9657779541822852\n"
          ]
        },
        {
          "output_type": "execute_result",
          "data": {
            "text/plain": [
              "[<matplotlib.lines.Line2D at 0x7f18b3a2f8b0>]"
            ]
          },
          "metadata": {},
          "execution_count": 24
        },
        {
          "output_type": "display_data",
          "data": {
            "text/plain": [
              "<Figure size 432x288 with 1 Axes>"
            ],
            "image/png": "[encoded data removed]"
          },
          "metadata": {
            "needs_background": "light"
          }
        }
      ]
    },
    {
      "cell_type": "code",
      "source": [
        "plt.legend(handles=[r2_patch])\n",
        "plt.plot(param_list, r2_list, c='red', linestyle=\"-\")"
      ],
      "metadata": {
        "colab": {
          "base_uri": "https://localhost:8080/",
          "height": 282
        },
        "id": "MWb-a2C6kQp7",
        "outputId": "3fa565b1-9ffc-4d05-ae2c-8e30a4ef1456"
      },
      "execution_count": 25,
      "outputs": [
        {
          "output_type": "execute_result",
          "data": {
            "text/plain": [
              "[<matplotlib.lines.Line2D at 0x7f18b3879850>]"
            ]
          },
          "metadata": {},
          "execution_count": 25
        },
        {
          "output_type": "display_data",
          "data": {
            "text/plain": [
              "<Figure size 432x288 with 1 Axes>"
            ],
            "image/png": "[encoded data removed]"
          },
          "metadata": {
            "needs_background": "light"
          }
        }
      ]
    },
    {
      "cell_type": "code",
      "execution_count": 26,
      "outputs": [
        {
          "output_type": "stream",
          "name": "stdout",
          "text": [
            "RandomForest MAE: 252.96963562753035, r2: 0.9674606554889235\n"
          ]
        }
      ],
      "source": [
        "clf_rf = RandomForestRegressor(n_estimators=190, criterion = \"squared_error\", random_state = 42)\n",
        "clf_rf.fit(x_train, y_train)\n",
        "y_pred_rf=clf_rf.predict(x_test)\n",
        "\n",
        "print(f'RandomForest MAE: {mean_absolute_error(y_true=y_test, y_pred=y_pred_rf)}, r2: {r2_score(y_true=y_test, y_pred=y_pred_rf)}')"
      ],
      "metadata": {
        "pycharm": {
          "name": "#%%\n"
        },
        "colab": {
          "base_uri": "https://localhost:8080/"
        },
        "id": "ktsvQE-Q4DMt",
        "outputId": "eace0ad1-7a00-4f36-c4d8-7823d8f61b3e"
      }
    },
    {
      "cell_type": "code",
      "source": [
        "from sklearn.neural_network import MLPRegressor\n",
        "\n",
        "mlp_r = MLPRegressor(hidden_layer_sizes=(25, 25, 25, 4, ), \n",
        "                     activation = 'relu', \n",
        "                     solver = 'adam', \n",
        "                     alpha = 0.00001, \n",
        "                     max_iter = 300)\n",
        "\n",
        "mlp_r.fit(x_train, y_train)\n",
        "y_pred_mlp = mlp_r.predict(x_test)\n",
        "print(f'MLPC MAE: {mean_absolute_error(y_true=y_test, y_pred=y_pred_mlp)}, r2: {r2_score(y_true=y_test, y_pred=y_pred_mlp)}')"
      ],
      "metadata": {
        "colab": {
          "base_uri": "https://localhost:8080/"
        },
        "id": "c6v4sW9XMnEF",
        "outputId": "eae5d852-98c4-474e-e215-92120f010b15"
      },
      "execution_count": 27,
      "outputs": [
        {
          "output_type": "stream",
          "name": "stdout",
          "text": [
            "MLPC MAE: 724.690417258366, r2: 0.7665815616257337\n"
          ]
        }
      ]
    },
    {
      "cell_type": "code",
      "source": [
        "\"\"\"\n",
        "Промежуточные выводы по классическим моделям:\n",
        "Задача хорошо подходит для регрессии - при определенной предобработке можно достичь хороших значений в точности\n",
        "при том, что некоторые неудобства доставляет формат хранения и большое количество пропущенных значений для некоторых\n",
        "признаков. Из всех испытанных методов (SVR, Linear Regression, KNN, RandomForestRegressor), наилучший результат показали алгоритмы Случайный Лес и КНН (были приведены в качестве примера в отчете).\n",
        "\"\"\""
      ],
      "metadata": {
        "colab": {
          "base_uri": "https://localhost:8080/",
          "height": 88
        },
        "id": "85eXH4evdEx6",
        "outputId": "57dcdf7b-510d-438a-a33c-e8b5664cc55f"
      },
      "execution_count": 28,
      "outputs": [
        {
          "output_type": "execute_result",
          "data": {
            "text/plain": [
              "'\\nПромежуточные выводы по классическим моделям:\\nЗадача хорошо подходит для регрессии - при определенной предобработке можно достичь хороших значений в точности\\nпри том, что некоторые неудобства доставляет формат хранения и большое количество пропущенных значений для некоторых\\nпризнаков. Из всех испытанных методов (SVR, Linear Regression, KNN, RandomForestRegressor), наилучший результат показали алгоритмы Случайный Лес и КНН (были приведены в качестве примера в отчете).\\n'"
            ],
            "application/vnd.google.colaboratory.intrinsic+json": {
              "type": "string"
            }
          },
          "metadata": {},
          "execution_count": 28
        }
      ]
    },
    {
      "cell_type": "code",
      "source": [
        "\"\"\"\n",
        "Построим простую полносвязную нейронную сеть с разными параметрами.\n",
        "Будем подбирать два параметра - L2 регуляризацию (alpha) и ширину второго скрытого слоя\n",
        "\"\"\""
      ],
      "metadata": {
        "colab": {
          "base_uri": "https://localhost:8080/",
          "height": 53
        },
        "id": "gH8w6SsxXtCv",
        "outputId": "e2ac3898-fba9-4cbf-f591-185001aba7c3"
      },
      "execution_count": 29,
      "outputs": [
        {
          "output_type": "execute_result",
          "data": {
            "text/plain": [
              "'\\nПостроим простую полносвязную нейронную сеть с разными параметрами.\\nБудем подбирать два параметра - L2 регуляризацию (alpha) и ширину второго скрытого слоя\\n'"
            ],
            "application/vnd.google.colaboratory.intrinsic+json": {
              "type": "string"
            }
          },
          "metadata": {},
          "execution_count": 29
        }
      ]
    },
    {
      "cell_type": "code",
      "source": [
        "from sklearn.neural_network import MLPRegressor\n",
        "import numpy as np\n",
        "\n",
        "alphas = sorted(np.logspace(-3, 2, 30))\n",
        "print(alphas)"
      ],
      "metadata": {
        "colab": {
          "base_uri": "https://localhost:8080/"
        },
        "id": "FwMpi2e3MHXP",
        "outputId": "eeb23ce9-abc0-4cf3-c654-02a24f4f818d"
      },
      "execution_count": 30,
      "outputs": [
        {
          "output_type": "stream",
          "name": "stdout",
          "text": [
            "[0.001, 0.0014873521072935117, 0.00221221629107045, 0.0032903445623126675, 0.004893900918477494, 0.007278953843983154, 0.010826367338740546, 0.01610262027560939, 0.02395026619987486, 0.03562247890262444, 0.0529831690628371, 0.07880462815669913, 0.11721022975334805, 0.1743328822199989, 0.2592943797404667, 0.38566204211634725, 0.5736152510448681, 0.8531678524172814, 1.2689610031679235, 1.8873918221350976, 2.8072162039411785, 4.175318936560405, 6.2101694189156165, 9.236708571873866, 13.738237958832638, 20.43359717856944, 30.39195382313201, 45.2035365636025, 67.23357536499334, 100.0]\n"
          ]
        }
      ]
    },
    {
      "cell_type": "code",
      "source": [
        "train_mae = []\n",
        "test_mae = []\n",
        "\n",
        "for alpha in alphas:\n",
        "\n",
        "  mlp_r = MLPRegressor(hidden_layer_sizes=(50, 35), \n",
        "                     activation = 'relu', \n",
        "                     solver = 'adam', \n",
        "                     alpha = alpha, \n",
        "                     max_iter = 1000,\n",
        "                     random_state = 1)\n",
        " \n",
        "  mlp_r.fit(x_train, y_train)\n",
        "  y_train_pred_mlp=mlp_r.predict(x_train)\n",
        "  y_test_pred_mlp=mlp_r.predict(x_test)\n",
        "\n",
        "  train_mae.append(mean_absolute_error(y_test, y_test_pred_mlp))\n",
        "  test_mae.append(mean_absolute_error(y_train, y_train_pred_mlp))"
      ],
      "metadata": {
        "id": "cywV9s8UWaPg"
      },
      "execution_count": 31,
      "outputs": []
    },
    {
      "cell_type": "code",
      "source": [
        "plt.semilogx(alphas, train_mae, 'b-o', label = 'train')\n",
        "plt.semilogx(alphas, test_mae, 'r-o', label = 'test')\n",
        "plt.xlim([np.min(alphas), np.max(alphas)])\n",
        "plt.ylim(min(train_mae+test_mae)-5, max(train_mae+test_mae)+5)\n",
        "plt.title('MAE vs alpha')\n",
        "plt.xlabel('alpha')\n",
        "plt.ylabel('MAE')\n",
        "plt.legend()"
      ],
      "metadata": {
        "colab": {
          "base_uri": "https://localhost:8080/",
          "height": 316
        },
        "id": "Ml49IyseZ1yH",
        "outputId": "6cf2b749-5f20-4565-ea63-17685d6fa8ab"
      },
      "execution_count": 32,
      "outputs": [
        {
          "output_type": "execute_result",
          "data": {
            "text/plain": [
              "<matplotlib.legend.Legend at 0x7f18b3a408b0>"
            ]
          },
          "metadata": {},
          "execution_count": 32
        },
        {
          "output_type": "display_data",
          "data": {
            "text/plain": [
              "<Figure size 432x288 with 1 Axes>"
            ],
            "image/png": "[encoded data removed]"
          },
          "metadata": {
            "needs_background": "light"
          }
        }
      ]
    },
    {
      "cell_type": "code",
      "source": [
        "sizes = sorted(np.random.randint(low = 10, high = 200, size = 10))\n",
        "r2_list = []\n",
        "mae_list = []\n",
        "\n",
        "for l_size in sizes:\n",
        "\n",
        "  mlp_r = MLPRegressor(hidden_layer_sizes=(100, l_size, ), \n",
        "                     activation = 'relu', \n",
        "                     solver = 'lbfgs', \n",
        "                     alpha = 0.02, \n",
        "                     max_iter = 400,\n",
        "                     random_state = 1)\n",
        " \n",
        "  mlp_r.fit(x_train, y_train)\n",
        "  y_train_pred_mlp=mlp_r.predict(x_train)\n",
        "  y_test_pred_mlp=mlp_r.predict(x_test)\n",
        "  print(f'MLPR with 2nd hidden layer size = \"{l_size}\" MAE: {mean_absolute_error(y_true=y_test, y_pred=y_test_pred_mlp)}, r2: {r2_score(y_true=y_test, y_pred=y_test_pred_mlp)}')\n",
        "  r2_list.append(r2_score(y_true=y_test, y_pred=y_test_pred_mlp))\n",
        "  mae_list.append(mean_absolute_error(y_true=y_test, y_pred=y_test_pred_mlp))"
      ],
      "metadata": {
        "colab": {
          "base_uri": "https://localhost:8080/"
        },
        "id": "j88BqL4tZJxf",
        "outputId": "285ee401-90f2-4d53-f3eb-2e74d7e85880"
      },
      "execution_count": 33,
      "outputs": [
        {
          "output_type": "stream",
          "name": "stdout",
          "text": [
            "MLPR with 2nd hidden layer size = \"14\" MAE: 712.6215611823847, r2: 0.7709773536024908\n"
          ]
        },
        {
          "output_type": "stream",
          "name": "stderr",
          "text": [
            "/usr/local/lib/python3.8/dist-packages/sklearn/neural_network/_multilayer_perceptron.py:549: ConvergenceWarning: lbfgs failed to converge (status=1):\n",
            "STOP: TOTAL NO. of ITERATIONS REACHED LIMIT.\n",
            "\n",
            "Increase the number of iterations (max_iter) or scale the data as shown in:\n",
            "    https://scikit-learn.org/stable/modules/preprocessing.html\n",
            "  self.n_iter_ = _check_optimize_result(\"lbfgs\", opt_res, self.max_iter)\n"
          ]
        },
        {
          "output_type": "stream",
          "name": "stdout",
          "text": [
            "MLPR with 2nd hidden layer size = \"34\" MAE: 706.458310995559, r2: 0.7757673869145685\n"
          ]
        },
        {
          "output_type": "stream",
          "name": "stderr",
          "text": [
            "/usr/local/lib/python3.8/dist-packages/sklearn/neural_network/_multilayer_perceptron.py:549: ConvergenceWarning: lbfgs failed to converge (status=1):\n",
            "STOP: TOTAL NO. of ITERATIONS REACHED LIMIT.\n",
            "\n",
            "Increase the number of iterations (max_iter) or scale the data as shown in:\n",
            "    https://scikit-learn.org/stable/modules/preprocessing.html\n",
            "  self.n_iter_ = _check_optimize_result(\"lbfgs\", opt_res, self.max_iter)\n"
          ]
        },
        {
          "output_type": "stream",
          "name": "stdout",
          "text": [
            "MLPR with 2nd hidden layer size = \"42\" MAE: 711.1190557221616, r2: 0.7715675951230802\n",
            "MLPR with 2nd hidden layer size = \"73\" MAE: 714.4226587726668, r2: 0.7694280989752417\n",
            "MLPR with 2nd hidden layer size = \"95\" MAE: 710.95533584691, r2: 0.7735666833410201\n",
            "MLPR with 2nd hidden layer size = \"106\" MAE: 713.9978346205579, r2: 0.7694901226544014\n",
            "MLPR with 2nd hidden layer size = \"148\" MAE: 714.1370920547523, r2: 0.7693300049191334\n",
            "MLPR with 2nd hidden layer size = \"192\" MAE: 711.0469699209967, r2: 0.7735593701639717\n",
            "MLPR with 2nd hidden layer size = \"198\" MAE: 711.0921098403445, r2: 0.7735050571906025\n",
            "MLPR with 2nd hidden layer size = \"199\" MAE: 713.8832131032407, r2: 0.7695874550087854\n"
          ]
        }
      ]
    },
    {
      "cell_type": "code",
      "source": [
        "r2_patch = mpatches.Patch(color='red', label='r2_error')\n",
        "mae_patch = mpatches.Patch(color='blue', label='MAE_error')\n",
        "plt.legend(handles=[r2_patch])\n",
        "plt.title('r2 vs 2nd hidden layer size')\n",
        "plt.xlabel('layer size')\n",
        "plt.ylabel('r2')\n",
        "\n",
        "plt.plot(sizes, r2_list, c='red',linestyle = \"-\")"
      ],
      "metadata": {
        "id": "55pYUNXUTpV9",
        "outputId": "5c6bcb37-db3e-4664-d4bb-48db53adcdf6",
        "colab": {
          "base_uri": "https://localhost:8080/",
          "height": 312
        }
      },
      "execution_count": 34,
      "outputs": [
        {
          "output_type": "execute_result",
          "data": {
            "text/plain": [
              "[<matplotlib.lines.Line2D at 0x7f18b37841c0>]"
            ]
          },
          "metadata": {},
          "execution_count": 34
        },
        {
          "output_type": "display_data",
          "data": {
            "text/plain": [
              "<Figure size 432x288 with 1 Axes>"
            ],
            "image/png": "[encoded data removed]"
          },
          "metadata": {
            "needs_background": "light"
          }
        }
      ]
    },
    {
      "cell_type": "code",
      "source": [
        "plt.plot(sizes, mae_list, c='blue', linestyle = \"-\")\n",
        "plt.title('MAE vs 2nd hidden layer size')\n",
        "plt.xlabel('layer size')\n",
        "plt.ylabel('MAE')\n",
        "plt.legend(handles=[mae_patch])"
      ],
      "metadata": {
        "id": "LXyJnDyzcP6Y",
        "outputId": "076cae20-040c-4b3f-b79c-3cc15c3721c3",
        "colab": {
          "base_uri": "https://localhost:8080/",
          "height": 312
        }
      },
      "execution_count": 35,
      "outputs": [
        {
          "output_type": "execute_result",
          "data": {
            "text/plain": [
              "<matplotlib.legend.Legend at 0x7f18b355bfa0>"
            ]
          },
          "metadata": {},
          "execution_count": 35
        },
        {
          "output_type": "display_data",
          "data": {
            "text/plain": [
              "<Figure size 432x288 with 1 Axes>"
            ],
            "image/png": "[encoded data removed]"
          },
          "metadata": {
            "needs_background": "light"
          }
        }
      ]
    },
    {
      "cell_type": "code",
      "source": [
        "\"\"\"\n",
        "Выводы по нейронным сетям:\n",
        "С помощью нейронных моделей, задача решается хуже, чем классическими моделями.\n",
        "В ходе экспериментов была выявлена плохая обобщаяющая способность нейросетевых моделей на маленьких наборах данных. \n",
        "\"\"\"\n"
      ],
      "metadata": {
        "id": "2bzXJR7k4DMu",
        "colab": {
          "base_uri": "https://localhost:8080/",
          "height": 53
        },
        "outputId": "495a9396-2f08-42bf-c714-9630cc764e25"
      },
      "execution_count": 36,
      "outputs": [
        {
          "output_type": "execute_result",
          "data": {
            "text/plain": [
              "'\\nВыводы по нейронным сетям:\\nС помощью нейронных моделей, задача решается хуже, чем классическими моделями.\\nВ ходе экспериментов была выявлена плохая обобщаяющая способность нейросетевых моделей на маленьких наборах данных. \\n'"
            ],
            "application/vnd.google.colaboratory.intrinsic+json": {
              "type": "string"
            }
          },
          "metadata": {},
          "execution_count": 36
        }
      ]
    }
  ]
}