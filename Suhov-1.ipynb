{
 "metadata": {
  "kernelspec": {
   "language": "python",
   "display_name": "Python 3",
   "name": "python3"
  },
  "language_info": {
   "pygments_lexer": "ipython3",
   "nbconvert_exporter": "python",
   "version": "3.6.4",
   "file_extension": ".py",
   "codemirror_mode": {
    "name": "ipython",
    "version": 3
   },
   "name": "python",
   "mimetype": "text/x-python"
  }
 },
 "nbformat_minor": 4,
 "nbformat": 4,
 "cells": [
  {
   "cell_type": "code",
   "execution_count": 1,
   "outputs": [
    {
     "data": {
      "text/plain": "'\\n0. Описать задачу словами\\n1. Прочитать данные\\n2. Визуализировать данные и вычислить основные характеристики (среднее, разброс, корреляционную матрицу и т.д.). Интерпретировать.\\n3. Обработать пропущенные значения (или убедиться, что их нет)\\n4. Обработать категориальные признаки\\n5. Провести нормализацию (или объяснить, почему в вашем случае она не нужна)\\n6. Разбить данные на обучающую и тестовую выборки\\n7. Запустить классификатор ближайших соседей (попробовать разное их количество)\\n8. Вычислить ошибки на обучающей и тестовой выборках. Сделать выводы\\n9. По желанию: запустить другие классификаторы. Сравнить результаты\\n10. По желанию: как-то побороться с несбалансированностью классов (если она есть)\\n11. По желанию: исключить коррелированные переменные (объяснить зачем)\\n12. Сделать общие выводы\\n\\n'"
     },
     "execution_count": 1,
     "metadata": {},
     "output_type": "execute_result"
    }
   ],
   "source": [
    "\"\"\"\n",
    "0. Описать задачу словами\n",
    "1. Прочитать данные\n",
    "2. Визуализировать данные и вычислить основные характеристики (среднее, разброс, корреляционную матрицу и т.д.). Интерпретировать.\n",
    "3. Обработать пропущенные значения (или убедиться, что их нет)\n",
    "4. Обработать категориальные признаки\n",
    "5. Провести нормализацию (или объяснить, почему в вашем случае она не нужна)\n",
    "6. Разбить данные на обучающую и тестовую выборки\n",
    "7. Запустить классификатор ближайших соседей (попробовать разное их количество)\n",
    "8. Вычислить ошибки на обучающей и тестовой выборках. Сделать выводы\n",
    "9. По желанию: запустить другие классификаторы. Сравнить результаты\n",
    "10. По желанию: как-то побороться с несбалансированностью классов (если она есть)\n",
    "11. По желанию: исключить коррелированные переменные (объяснить зачем)\n",
    "12. Сделать общие выводы\n",
    "\n",
    "\"\"\""
   ],
   "metadata": {
    "collapsed": false,
    "pycharm": {
     "name": "#%%\n"
    }
   }
  },
  {
   "cell_type": "code",
   "execution_count": 2,
   "outputs": [
    {
     "data": {
      "text/plain": "'\\n\\nРост числа супермаркетов в большинстве населенных городов увеличивается, и конкуренция на рынке также высока. \\nНабор данных представляет собой один из исторических данных о продажах компании-супермаркета, который был зарегистрирован в 3 различных филиалах за 3 месяца.\\n\\n\\nInvoice id: Computer generated sales slip invoice identification number\\n\\nBranch: Branch of supercenter (3 branches are available identified by A, B and C).\\n\\nCity: Location of supercenters\\n\\nCustomer type: Type of customers, recorded by Members for customers using member card and Normal for without member card.\\n\\nGender: Gender type of customer\\n\\nProduct line: General item categorization groups - Electronic accessories, Fashion accessories, Food and beverages, Health and beauty, Home and lifestyle, Sports and travel\\n\\nUnit price: Price of each product in $\\n\\nQuantity: Number of products purchased by customer\\n\\nTax: 5% tax fee for customer buying\\n\\nTotal: Total price including tax\\n\\nDate: Date of purchase (Record available from January 2019 to March 2019)\\n\\nTime: Purchase time (10am to 9pm)\\n\\nPayment: Payment used by customer for purchase (3 methods are available – Cash, Credit card and Ewallet)\\n\\nCOGS: Cost of goods sold\\n\\nGross margin percentage: Gross margin percentage\\n\\nGross income: Gross income\\n'"
     },
     "execution_count": 2,
     "metadata": {},
     "output_type": "execute_result"
    }
   ],
   "source": [
    "\"\"\"\n",
    "\n",
    "Рост числа супермаркетов в большинстве населенных городов увеличивается, и конкуренция на рынке также высока.\n",
    "Набор данных представляет собой один из исторических данных о продажах компании-супермаркета, который был зарегистрирован в 3 различных филиалах за 3 месяца.\n",
    "\n",
    "\n",
    "Invoice id: Computer generated sales slip invoice identification number\n",
    "\n",
    "Branch: Branch of supercenter (3 branches are available identified by A, B and C).\n",
    "\n",
    "City: Location of supercenters\n",
    "\n",
    "Customer type: Type of customers, recorded by Members for customers using member card and Normal for without member card.\n",
    "\n",
    "Gender: Gender type of customer\n",
    "\n",
    "Product line: General item categorization groups - Electronic accessories, Fashion accessories, Food and beverages, Health and beauty, Home and lifestyle, Sports and travel\n",
    "\n",
    "Unit price: Price of each product in $\n",
    "\n",
    "Quantity: Number of products purchased by customer\n",
    "\n",
    "Tax: 5% tax fee for customer buying\n",
    "\n",
    "Total: Total price including tax\n",
    "\n",
    "Date: Date of purchase (Record available from January 2019 to March 2019)\n",
    "\n",
    "Time: Purchase time (10am to 9pm)\n",
    "\n",
    "Payment: Payment used by customer for purchase (3 methods are available – Cash, Credit card and Ewallet)\n",
    "\n",
    "COGS: Cost of goods sold\n",
    "\n",
    "Gross margin percentage: Gross margin percentage\n",
    "\n",
    "Gross income: Gross income\n",
    "\"\"\""
   ],
   "metadata": {
    "collapsed": false,
    "pycharm": {
     "name": "#%%\n"
    }
   }
  },
  {
   "cell_type": "code",
   "execution_count": 3,
   "outputs": [],
   "source": [
    "import pandas as pd\n",
    "import matplotlib.pyplot as plt\n",
    "from sklearn.model_selection import train_test_split\n",
    "import seaborn as sns\n",
    "from sklearn.preprocessing import OneHotEncoder, StandardScaler, LabelEncoder\n",
    "from sklearn.compose import make_column_transformer\n",
    "from sklearn.metrics import confusion_matrix"
   ],
   "metadata": {
    "collapsed": false,
    "pycharm": {
     "name": "#%%\n"
    }
   }
  },
  {
   "cell_type": "code",
   "source": [
    "features=pd.read_csv(\"features.csv\")\n",
    "store=pd.read_csv(\"stores.csv\")\n",
    "train=pd.read_csv(\"train.csv\")\n",
    "test=pd.read_csv(\"test.csv\")"
   ],
   "metadata": {
    "execution": {
     "iopub.status.busy": "2022-09-22T12:09:33.789963Z",
     "iopub.execute_input": "2022-09-22T12:09:33.790387Z",
     "iopub.status.idle": "2022-09-22T12:09:34.066934Z",
     "shell.execute_reply.started": "2022-09-22T12:09:33.790355Z",
     "shell.execute_reply": "2022-09-22T12:09:34.065468Z"
    },
    "trusted": true
   },
   "execution_count": 4,
   "outputs": []
  },
  {
   "cell_type": "code",
   "source": [
    "train=train.groupby(['Store','Date'])['Weekly_Sales'].sum()\n",
    "train=train.reset_index()\n",
    "data=pd.merge(train,features,on=['Store','Date'],how='inner')\n",
    "data=pd.merge(data,store,on=['Store'],how='inner')\n",
    "data.head(10)"
   ],
   "metadata": {
    "execution": {
     "iopub.status.busy": "2022-09-22T12:09:34.158534Z",
     "iopub.execute_input": "2022-09-22T12:09:34.158872Z",
     "iopub.status.idle": "2022-09-22T12:09:34.251514Z",
     "shell.execute_reply.started": "2022-09-22T12:09:34.158842Z",
     "shell.execute_reply": "2022-09-22T12:09:34.250191Z"
    },
    "trusted": true
   },
   "execution_count": 5,
   "outputs": [
    {
     "data": {
      "text/plain": "   Store        Date  Weekly_Sales\n0      1  2010-02-05    1643690.90\n1      1  2010-02-12    1641957.44\n2      1  2010-02-19    1611968.17\n3      1  2010-02-26    1409727.59\n4      1  2010-03-05    1554806.68\n5      1  2010-03-12    1439541.59\n6      1  2010-03-19    1472515.79\n7      1  2010-03-26    1404429.92\n8      1  2010-04-02    1594968.28\n9      1  2010-04-09    1545418.53",
      "text/html": "<div>\n<style scoped>\n    .dataframe tbody tr th:only-of-type {\n        vertical-align: middle;\n    }\n\n    .dataframe tbody tr th {\n        vertical-align: top;\n    }\n\n    .dataframe thead th {\n        text-align: right;\n    }\n</style>\n<table border=\"1\" class=\"dataframe\">\n  <thead>\n    <tr style=\"text-align: right;\">\n      <th></th>\n      <th>Store</th>\n      <th>Date</th>\n      <th>Weekly_Sales</th>\n    </tr>\n  </thead>\n  <tbody>\n    <tr>\n      <th>0</th>\n      <td>1</td>\n      <td>2010-02-05</td>\n      <td>1643690.90</td>\n    </tr>\n    <tr>\n      <th>1</th>\n      <td>1</td>\n      <td>2010-02-12</td>\n      <td>1641957.44</td>\n    </tr>\n    <tr>\n      <th>2</th>\n      <td>1</td>\n      <td>2010-02-19</td>\n      <td>1611968.17</td>\n    </tr>\n    <tr>\n      <th>3</th>\n      <td>1</td>\n      <td>2010-02-26</td>\n      <td>1409727.59</td>\n    </tr>\n    <tr>\n      <th>4</th>\n      <td>1</td>\n      <td>2010-03-05</td>\n      <td>1554806.68</td>\n    </tr>\n    <tr>\n      <th>5</th>\n      <td>1</td>\n      <td>2010-03-12</td>\n      <td>1439541.59</td>\n    </tr>\n    <tr>\n      <th>6</th>\n      <td>1</td>\n      <td>2010-03-19</td>\n      <td>1472515.79</td>\n    </tr>\n    <tr>\n      <th>7</th>\n      <td>1</td>\n      <td>2010-03-26</td>\n      <td>1404429.92</td>\n    </tr>\n    <tr>\n      <th>8</th>\n      <td>1</td>\n      <td>2010-04-02</td>\n      <td>1594968.28</td>\n    </tr>\n    <tr>\n      <th>9</th>\n      <td>1</td>\n      <td>2010-04-09</td>\n      <td>1545418.53</td>\n    </tr>\n  </tbody>\n</table>\n</div>"
     },
     "execution_count": 5,
     "metadata": {},
     "output_type": "execute_result"
    }
   ]
  },
  {
   "cell_type": "code",
   "source": [
    "print(data.info)"
   ],
   "metadata": {
    "execution": {
     "iopub.status.busy": "2022-09-22T12:09:34.328543Z",
     "iopub.execute_input": "2022-09-22T12:09:34.329024Z",
     "iopub.status.idle": "2022-09-22T12:09:34.473184Z",
     "shell.execute_reply.started": "2022-09-22T12:09:34.328982Z",
     "shell.execute_reply": "2022-09-22T12:09:34.471982Z"
    },
    "trusted": true
   },
   "execution_count": 21,
   "outputs": [
    {
     "name": "stdout",
     "output_type": "stream",
     "text": [
      "<bound method DataFrame.info of       Store        Date  Weekly_Sales  Temperature  Fuel_Price         CPI  \\\n",
      "0         1  2010-02-05    1643690.90        42.31       2.572  211.096358   \n",
      "1         1  2010-02-12    1641957.44        38.51       2.548  211.242170   \n",
      "2         1  2010-02-19    1611968.17        39.93       2.514  211.289143   \n",
      "3         1  2010-02-26    1409727.59        46.63       2.561  211.319643   \n",
      "4         1  2010-03-05    1554806.68        46.50       2.625  211.350143   \n",
      "...     ...         ...           ...          ...         ...         ...   \n",
      "6430     45  2012-09-28     713173.95        64.88       3.997  192.013558   \n",
      "6431     45  2012-10-05     733455.07        64.89       3.985  192.170412   \n",
      "6432     45  2012-10-12     734464.36        54.47       4.000  192.327265   \n",
      "6433     45  2012-10-19     718125.53        56.47       3.969  192.330854   \n",
      "6434     45  2012-10-26     760281.43        58.85       3.882  192.308899   \n",
      "\n",
      "      Unemployment    Size  Holiday  B  C  \n",
      "0            8.106  151315        0  0  0  \n",
      "1            8.106  151315        1  0  0  \n",
      "2            8.106  151315        0  0  0  \n",
      "3            8.106  151315        0  0  0  \n",
      "4            8.106  151315        0  0  0  \n",
      "...            ...     ...      ... .. ..  \n",
      "6430         8.684  118221        0  1  0  \n",
      "6431         8.667  118221        0  1  0  \n",
      "6432         8.667  118221        0  1  0  \n",
      "6433         8.667  118221        0  1  0  \n",
      "6434         8.667  118221        0  1  0  \n",
      "\n",
      "[6435 rows x 11 columns]>\n"
     ]
    }
   ]
  },
  {
   "cell_type": "code",
   "execution_count": null,
   "outputs": [],
   "source": [
    "sns.countplot(x=\"Type\", data=data)"
   ],
   "metadata": {
    "collapsed": false,
    "pycharm": {
     "name": "#%%\n"
    }
   }
  },
  {
   "cell_type": "code",
   "source": [
    "sns.boxplot(x='Type',y='Weekly_Sales',data=data)"
   ],
   "metadata": {
    "execution": {
     "iopub.status.busy": "2022-09-22T12:09:34.476538Z",
     "iopub.execute_input": "2022-09-22T12:09:34.477607Z",
     "iopub.status.idle": "2022-09-22T12:09:34.652182Z",
     "shell.execute_reply.started": "2022-09-22T12:09:34.477557Z",
     "shell.execute_reply": "2022-09-22T12:09:34.650848Z"
    },
    "trusted": true
   },
   "execution_count": 9,
   "outputs": [
    {
     "data": {
      "text/plain": "<AxesSubplot:xlabel='Type', ylabel='Weekly_Sales'>"
     },
     "execution_count": 9,
     "metadata": {},
     "output_type": "execute_result"
    },
    {
     "data": {
      "text/plain": "<Figure size 432x288 with 1 Axes>",
      "image/png": "[encoded data removed]"
     },
     "metadata": {
      "needs_background": "light"
     },
     "output_type": "display_data"
    }
   ]
  },
  {
   "cell_type": "code",
   "source": [
    "data[\"Weekly_Sales\"].plot.hist()"
   ],
   "metadata": {
    "execution": {
     "iopub.status.busy": "2022-09-22T12:09:34.654022Z",
     "iopub.execute_input": "2022-09-22T12:09:34.654494Z",
     "iopub.status.idle": "2022-09-22T12:09:34.849096Z",
     "shell.execute_reply.started": "2022-09-22T12:09:34.654449Z",
     "shell.execute_reply": "2022-09-22T12:09:34.84784Z"
    },
    "trusted": true
   },
   "execution_count": 10,
   "outputs": [
    {
     "data": {
      "text/plain": "<AxesSubplot:ylabel='Frequency'>"
     },
     "execution_count": 10,
     "metadata": {},
     "output_type": "execute_result"
    },
    {
     "data": {
      "text/plain": "<Figure size 432x288 with 1 Axes>",
      "image/png": "[encoded data removed]"
     },
     "metadata": {
      "needs_background": "light"
     },
     "output_type": "display_data"
    }
   ]
  },
  {
   "cell_type": "code",
   "source": [
    "sns.countplot(x=\"IsHoliday\", data=data)"
   ],
   "metadata": {
    "execution": {
     "iopub.status.busy": "2022-09-22T12:09:34.850657Z",
     "iopub.execute_input": "2022-09-22T12:09:34.851379Z",
     "iopub.status.idle": "2022-09-22T12:09:34.987476Z",
     "shell.execute_reply.started": "2022-09-22T12:09:34.851333Z",
     "shell.execute_reply": "2022-09-22T12:09:34.986211Z"
    },
    "trusted": true
   },
   "execution_count": 11,
   "outputs": [
    {
     "data": {
      "text/plain": "<AxesSubplot:xlabel='IsHoliday', ylabel='count'>"
     },
     "execution_count": 11,
     "metadata": {},
     "output_type": "execute_result"
    },
    {
     "data": {
      "text/plain": "<Figure size 432x288 with 1 Axes>",
      "image/png": "[encoded data removed]"
     },
     "metadata": {
      "needs_background": "light"
     },
     "output_type": "display_data"
    }
   ]
  },
  {
   "cell_type": "code",
   "source": [
    "data.isnull().sum()"
   ],
   "metadata": {
    "execution": {
     "iopub.status.busy": "2022-09-22T12:09:34.992279Z",
     "iopub.execute_input": "2022-09-22T12:09:34.993108Z",
     "iopub.status.idle": "2022-09-22T12:09:35.010548Z",
     "shell.execute_reply.started": "2022-09-22T12:09:34.993056Z",
     "shell.execute_reply": "2022-09-22T12:09:35.008572Z"
    },
    "trusted": true
   },
   "execution_count": 12,
   "outputs": [
    {
     "data": {
      "text/plain": "Store              0\nDate               0\nWeekly_Sales       0\nTemperature        0\nFuel_Price         0\nMarkDown1       4155\nMarkDown2       4798\nMarkDown3       4389\nMarkDown4       4470\nMarkDown5       4140\nCPI                0\nUnemployment       0\nIsHoliday          0\nType               0\nSize               0\ndtype: int64"
     },
     "execution_count": 12,
     "metadata": {},
     "output_type": "execute_result"
    }
   ]
  },
  {
   "cell_type": "code",
   "execution_count": 13,
   "outputs": [
    {
     "data": {
      "text/plain": "Store           0\nDate            0\nWeekly_Sales    0\nTemperature     0\nFuel_Price      0\nCPI             0\nUnemployment    0\nIsHoliday       0\nType            0\nSize            0\ndtype: int64"
     },
     "execution_count": 13,
     "metadata": {},
     "output_type": "execute_result"
    }
   ],
   "source": [
    "\"\"\"\n",
    "Признаки 'MarkDown1','MarkDown2','MarkDown3','MarkDown4','MarkDown5' имеют большое кол-во признаков\n",
    "Использовать их не представляется возможным, поэтому придется удалить.\n",
    "\"\"\"\n",
    "\n",
    "data=data.drop(['MarkDown1','MarkDown2','MarkDown3','MarkDown4','MarkDown5'],axis=1)\n",
    "data.isnull().sum()"
   ],
   "metadata": {
    "collapsed": false,
    "pycharm": {
     "name": "#%%\n"
    }
   }
  },
  {
   "cell_type": "code",
   "source": [
    "data['Holiday']=[int(i) for i in list(data.IsHoliday)]"
   ],
   "metadata": {
    "execution": {
     "iopub.status.busy": "2022-09-22T12:09:37.702308Z",
     "iopub.execute_input": "2022-09-22T12:09:37.703773Z",
     "iopub.status.idle": "2022-09-22T12:09:37.730303Z",
     "shell.execute_reply.started": "2022-09-22T12:09:37.7037Z",
     "shell.execute_reply": "2022-09-22T12:09:37.728929Z"
    },
    "trusted": true
   },
   "execution_count": 14,
   "outputs": []
  },
  {
   "cell_type": "code",
   "source": [
    "Type_dummy=pd.get_dummies(data['Type'],drop_first=True)\n",
    "data=pd.concat([data,Type_dummy],axis=1)\n",
    "data=data.drop(['Type','IsHoliday'],axis=1)"
   ],
   "metadata": {
    "execution": {
     "iopub.status.busy": "2022-09-22T12:09:37.73199Z",
     "iopub.execute_input": "2022-09-22T12:09:37.732458Z",
     "iopub.status.idle": "2022-09-22T12:09:37.747639Z",
     "shell.execute_reply.started": "2022-09-22T12:09:37.732415Z",
     "shell.execute_reply": "2022-09-22T12:09:37.746317Z"
    },
    "trusted": true
   },
   "execution_count": 15,
   "outputs": []
  },
  {
   "cell_type": "code",
   "source": [
    "X=data.drop(['Weekly_Sales','Store','Date', \"B\", \"C\"],axis=1)\n",
    "y=data['Weekly_Sales']"
   ],
   "metadata": {
    "execution": {
     "iopub.status.busy": "2022-09-22T12:09:37.810636Z",
     "iopub.execute_input": "2022-09-22T12:09:37.811167Z",
     "iopub.status.idle": "2022-09-22T12:09:37.822038Z",
     "shell.execute_reply.started": "2022-09-22T12:09:37.811122Z",
     "shell.execute_reply": "2022-09-22T12:09:37.820567Z"
    },
    "trusted": true
   },
   "execution_count": 16,
   "outputs": []
  },
  {
   "cell_type": "code",
   "execution_count": 17,
   "outputs": [],
   "source": [
    "nom_cols=[8]\n",
    "\n",
    "scale_cols=[0,3]"
   ],
   "metadata": {
    "collapsed": false,
    "pycharm": {
     "name": "#%%\n"
    }
   }
  },
  {
   "cell_type": "code",
   "source": [
    "transf = make_column_transformer((OneHotEncoder(sparse=False,drop='first'), nom_cols),\n",
    "                                 (StandardScaler(), scale_cols),\n",
    "                                 remainder='passthrough')\n",
    "transf\n",
    "\n",
    "lab = LabelEncoder()\n",
    "y = lab.fit_transform(y)\n",
    "\n",
    "x_train, x_val, y_train, y_val = train_test_split(X, y, test_size=0.30, random_state=42)"
   ],
   "metadata": {
    "execution": {
     "iopub.status.busy": "2022-09-22T12:09:42.022722Z",
     "iopub.execute_input": "2022-09-22T12:09:42.023234Z",
     "iopub.status.idle": "2022-09-22T12:09:42.038972Z",
     "shell.execute_reply.started": "2022-09-22T12:09:42.023194Z",
     "shell.execute_reply": "2022-09-22T12:09:42.037485Z"
    },
    "trusted": true
   },
   "execution_count": 18,
   "outputs": []
  },
  {
   "cell_type": "code",
   "execution_count": 31,
   "outputs": [
    {
     "name": "stdout",
     "output_type": "stream",
     "text": [
      "Accuracy: 95 % \n",
      "\n"
     ]
    }
   ],
   "source": [
    "from sklearn.neighbors import KNeighborsRegressor\n",
    "\n",
    "knn_c = KNeighborsRegressor(n_neighbors=14)\n",
    "knn_c.fit(x_train, y_train)\n",
    "y_pred_knn=knn_c.predict(x_val)\n",
    "acc_knn= round(knn_c.score(x_train, y_train) * 100, 2)\n",
    "print (\"Accuracy: %i %% \\n\"%acc_knn)"
   ],
   "metadata": {
    "collapsed": false,
    "pycharm": {
     "name": "#%%\n"
    }
   }
  },
  {
   "cell_type": "code",
   "execution_count": 23,
   "outputs": [
    {
     "name": "stdout",
     "output_type": "stream",
     "text": [
      "Accuracy: 99 % \n",
      "\n"
     ]
    }
   ],
   "source": [
    "from sklearn.ensemble import RandomForestRegressor\n",
    "clf_rf = RandomForestRegressor(n_estimators=150)\n",
    "clf_rf.fit(x_train, y_train)\n",
    "y_pred_rf=clf_rf.predict(x_val)\n",
    "acc_rf= round(clf_rf.score(x_train, y_train) * 100, 2)\n",
    "print (\"Accuracy: %i %% \\n\"%acc_rf)"
   ],
   "metadata": {
    "collapsed": false,
    "pycharm": {
     "name": "#%%\n"
    }
   }
  },
  {
   "cell_type": "code",
   "source": [
    "\"\"\"\n",
    "Общие выводы:\n",
    "Задача хорошо подходит для регрессии - при определенной предобработке можно достичь хороших значений в точности\n",
    "при том, что некоторые неудобства доставляет формат хранения и большое количество пропущенных значений для некоторых\n",
    "признаков. Из всех испытанных методов (SVC, Linear Regression, KNN), наилучший результат показал Случайный Лес.\n",
    "\"\"\"\n"
   ],
   "metadata": {},
   "execution_count": 20,
   "outputs": []
  }
 ]
}